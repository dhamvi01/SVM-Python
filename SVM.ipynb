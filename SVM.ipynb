{
  "nbformat": 4,
  "nbformat_minor": 0,
  "metadata": {
    "colab": {
      "name": "SVM.ipynb",
      "provenance": [],
      "collapsed_sections": [],
      "authorship_tag": "ABX9TyOu5zg6pTsIkBeEt6UmCH5s",
      "include_colab_link": true
    },
    "kernelspec": {
      "name": "python3",
      "display_name": "Python 3"
    }
  },
  "cells": [
    {
      "cell_type": "markdown",
      "metadata": {
        "id": "view-in-github",
        "colab_type": "text"
      },
      "source": [
        "<a href=\"https://colab.research.google.com/github/dhamvi01/SVM-Python/blob/main/SVM.ipynb\" target=\"_parent\"><img src=\"https://colab.research.google.com/assets/colab-badge.svg\" alt=\"Open In Colab\"/></a>"
      ]
    },
    {
      "cell_type": "markdown",
      "metadata": {
        "id": "64IC5KW-_lD0"
      },
      "source": [
        "#### Support vector machine or SVM algorithm is based on the concept of ‘decision planes’, where hyperplanes are used to classify a set of given objects.\n",
        "Let us start off with a few pictorial examples of support vector machine algorithm. As we can see in Figure 2, we have two sets of data. These datasets can be separated easily with the help of a line, called a decision boundary."
      ]
    },
    {
      "cell_type": "markdown",
      "metadata": {
        "id": "8rQkN6fd_ykz"
      },
      "source": [
        "#### Step1: Import libraries"
      ]
    },
    {
      "cell_type": "code",
      "metadata": {
        "id": "9aokbUHM7LCz"
      },
      "source": [
        "import pandas as pd\n",
        "a = pd.read_csv('data.csv')\n",
        "a.fillna(0,inplace=True)"
      ],
      "execution_count": null,
      "outputs": []
    },
    {
      "cell_type": "code",
      "metadata": {
        "id": "d0-T7x998Rqr"
      },
      "source": [
        "x = a.drop('diagnosis',axis=1)\n",
        "y = a['diagnosis']"
      ],
      "execution_count": null,
      "outputs": []
    },
    {
      "cell_type": "markdown",
      "metadata": {
        "id": "rVc9MbrT_3iZ"
      },
      "source": [
        "#### Step2: Train test split"
      ]
    },
    {
      "cell_type": "code",
      "metadata": {
        "id": "50e9jWTP8rUj"
      },
      "source": [
        "from sklearn.model_selection import train_test_split\n",
        "x_train, x_test, y_train, y_test = train_test_split(x,y,test_size=0.2)"
      ],
      "execution_count": null,
      "outputs": []
    },
    {
      "cell_type": "markdown",
      "metadata": {
        "id": "Ve65fXEX_8DF"
      },
      "source": [
        "#### Step3: Model building"
      ]
    },
    {
      "cell_type": "code",
      "metadata": {
        "id": "kTSn73bA86yC"
      },
      "source": [
        "from sklearn.svm import SVC\n",
        "model = SVC(kernel='linear')\n",
        "model.fit(x_train,y_train)"
      ],
      "execution_count": null,
      "outputs": []
    },
    {
      "cell_type": "markdown",
      "metadata": {
        "id": "jRO-apjVAfJW"
      },
      "source": [
        "#### Step4: test data prediction"
      ]
    },
    {
      "cell_type": "code",
      "metadata": {
        "id": "PeI2DiMM9tis"
      },
      "source": [
        "y_pred = model.predict(x_test)"
      ],
      "execution_count": null,
      "outputs": []
    },
    {
      "cell_type": "markdown",
      "metadata": {
        "id": "IiF7zAZFAknU"
      },
      "source": [
        "#### Step5: Model Validation"
      ]
    },
    {
      "cell_type": "code",
      "metadata": {
        "id": "wGrMyl2I9TdM"
      },
      "source": [
        "from sklearn.metrics import classification_report, confusion_matrix\n",
        "print(confusion_matrix(y_test,pred))\n",
        "print(classification_report(y_test,pred))"
      ],
      "execution_count": null,
      "outputs": []
    },
    {
      "cell_type": "markdown",
      "metadata": {
        "id": "A-Vg9FuC989C"
      },
      "source": [
        "#### Implementing Kernel SVM with Sklearn SVM module"
      ]
    },
    {
      "cell_type": "code",
      "metadata": {
        "id": "5Ijj6PBq9qti"
      },
      "source": [
        "from sklearn.svm import SVC\n",
        "model = SVC(kernel='poly',degree=8)\n",
        "model.fit(x_train,y_train)"
      ],
      "execution_count": null,
      "outputs": []
    },
    {
      "cell_type": "code",
      "metadata": {
        "id": "m0qgmyX7-E_T"
      },
      "source": [
        "y_pred = model.predict(x_test)"
      ],
      "execution_count": null,
      "outputs": []
    },
    {
      "cell_type": "code",
      "metadata": {
        "id": "6Qyd9WAn-FkL"
      },
      "source": [
        "from sklearn.metrics import classification_report, confusion_matrix\n",
        "print(confusion_matrix(y_test,pred))\n",
        "print(classification_report(y_test,pred))"
      ],
      "execution_count": null,
      "outputs": []
    },
    {
      "cell_type": "markdown",
      "metadata": {
        "id": "3RqjUQrs-N8m"
      },
      "source": [
        "#### Gaussian Kernel"
      ]
    },
    {
      "cell_type": "code",
      "metadata": {
        "id": "yBk1dW7T-T5D"
      },
      "source": [
        "from sklearn.svm import SVC\n",
        "model = SVC(kernel='rbf')\n",
        "model.fit(x_train,y_train)"
      ],
      "execution_count": null,
      "outputs": []
    },
    {
      "cell_type": "code",
      "metadata": {
        "id": "HP_zH6AR-ZH6"
      },
      "source": [
        "y_pred = model.predict(x_test)"
      ],
      "execution_count": null,
      "outputs": []
    },
    {
      "cell_type": "code",
      "metadata": {
        "id": "4OY6lA2M-bMl"
      },
      "source": [
        "from sklearn.metrics import classification_report, confusion_matrix\n",
        "print(confusion_matrix(y_test,pred))\n",
        "print(classification_report(y_test,pred))"
      ],
      "execution_count": null,
      "outputs": []
    },
    {
      "cell_type": "markdown",
      "metadata": {
        "id": "GIoneto2-eob"
      },
      "source": [
        "#### Sigmoid Kernel"
      ]
    },
    {
      "cell_type": "code",
      "metadata": {
        "id": "Zx9JD8Gl-d2z"
      },
      "source": [
        "from sklearn.svm import SVC\n",
        "model = SVC(kernel='sigmoid')\n",
        "model.fit(x_train,y_train)"
      ],
      "execution_count": null,
      "outputs": []
    },
    {
      "cell_type": "code",
      "metadata": {
        "id": "Oq-_8xO9-l9L"
      },
      "source": [
        "y_pred = model.predict(x_test)"
      ],
      "execution_count": null,
      "outputs": []
    },
    {
      "cell_type": "code",
      "metadata": {
        "id": "7egIlIAO-s2V"
      },
      "source": [
        "from sklearn.metrics import classification_report, confusion_matrix\n",
        "print(confusion_matrix(y_test,pred))\n",
        "print(classification_report(y_test,pred))"
      ],
      "execution_count": null,
      "outputs": []
    },
    {
      "cell_type": "code",
      "metadata": {
        "id": "7_IJ-i-2-t-a"
      },
      "source": [
        ""
      ],
      "execution_count": null,
      "outputs": []
    }
  ]
}